{
 "cells": [
  {
   "cell_type": "code",
   "execution_count": 2,
   "metadata": {
    "collapsed": true
   },
   "outputs": [],
   "source": [
    "import pandas as pd\n",
    "import requests\n",
    "from bs4 import BeautifulSoup\n",
    "from time import sleep\n",
    "import numpy as np\n",
    "import re"
   ]
  },
  {
   "cell_type": "markdown",
   "metadata": {},
   "source": [
    "Define a function that scrapes the service:"
   ]
  },
  {
   "cell_type": "code",
   "execution_count": 2,
   "metadata": {
    "collapsed": true
   },
   "outputs": [],
   "source": [
    "def scrape_prisjakt(k):\n",
    "    url = 'https://www.prisjakt.nu/kategori.php?k=' + str(k)\n",
    "    page = requests.get(url)\n",
    "    page_html = page.text\n",
    "    total_amount_list = re.findall('\"total\":\"(.*?)\"',page_html)\n",
    "    total_amount_string = total_amount_list[0]\n",
    "    N = int(total_amount_string)\n",
    "\n",
    "    #There are 50 products per page. Loop over pages.\n",
    "    #Loop\n",
    "    base_url = 'https://www.prisjakt.nu/kategori.php?k=' + str(k) + '&s='\n",
    "    #Temporary N\n",
    "    #N = 500\n",
    "    df2 = []\n",
    "    #Loop works\n",
    "    for i in range (0,N+1,50):\n",
    "        if i == 0:\n",
    "            parameters = ''\n",
    "        else:\n",
    "            parameters = i\n",
    "        r = requests.get(base_url, params = parameters)\n",
    "        soup = BeautifulSoup(page.content, 'html.parser')\n",
    "        sleep(20)\n",
    "        print(i)\n",
    "\n",
    "        #Get product list\n",
    "        product_list = soup.find(id = 'div_produktlista')\n",
    "        product_list\n",
    "\n",
    "        #Call each product \"item\"\n",
    "        items = product_list.find_all(class_ = 'drg-sidebar')\n",
    "\n",
    "        #Collect product id, price and rating for each of 50 products on the page\n",
    "        for product in range(0,50):\n",
    "            #Get Product\n",
    "            item = items[product]\n",
    "            #Get id\n",
    "            id_string = item.attrs['id']\n",
    "            ids = id_string.split('-')[1]\n",
    "            #Get price\n",
    "            price_string = item.find(class_ = 'price')\n",
    "            #prices = price_string.contents\n",
    "            try:\n",
    "                prices_text = price_string.get_text()\n",
    "                prices_str = prices_text.split(':')[0]\n",
    "                prices = prices_str.replace('\\xa0','')\n",
    "            except:\n",
    "                prices  = price_string \n",
    "            #Get rating\n",
    "            #Some products have missing values. Record missing values as \"None\"\n",
    "            try:\n",
    "                rating_string = item.find(class_ = 'stars7')\n",
    "                ratings = rating_string['alt'].split('/')[0]\n",
    "            except TypeError:\n",
    "                ratings = None\n",
    "            new_df2 = pd.DataFrame({'id':ids,'price':prices, 'rating':ratings},index=[product+i])\n",
    "            df2.append(new_df2)\n",
    "\n",
    "    pdf2 = pd.concat(df2, axis=0, sort=False)\n",
    "\n",
    "    pdf2[['price','rating']] = pdf2[['price','rating']].apply(pd.to_numeric, errors = 'ignore')\n",
    "    pdf2['log_price'] = np.log(pdf2['price'])\n",
    "    \n",
    "    pdf2.dropna(inplace = True)\n",
    "    \n",
    "    # add a variable for the category\n",
    "    pdf2['k'] = k\n",
    "    pdf2['N'] = N\n",
    "    \n",
    "    return pdf2"
   ]
  },
  {
   "cell_type": "markdown",
   "metadata": {},
   "source": [
    "Check for one product:"
   ]
  },
  {
   "cell_type": "code",
   "execution_count": null,
   "metadata": {},
   "outputs": [],
   "source": [
    "a = scrape_prisjakt(552)"
   ]
  },
  {
   "cell_type": "code",
   "execution_count": null,
   "metadata": {},
   "outputs": [],
   "source": [
    "a[['log_price','rating']].corr()"
   ]
  },
  {
   "cell_type": "markdown",
   "metadata": {},
   "source": [
    "Visualize the relationship between log price and rating:"
   ]
  },
  {
   "cell_type": "code",
   "execution_count": 13,
   "metadata": {
    "collapsed": true
   },
   "outputs": [],
   "source": [
    "import seaborn as sns\n",
    "%matplotlib inline"
   ]
  },
  {
   "cell_type": "code",
   "execution_count": 14,
   "metadata": {},
   "outputs": [
    {
     "name": "stderr",
     "output_type": "stream",
     "text": [
      "/Users/circ-psk/Library/Python/3.6/lib/python/site-packages/matplotlib/axes/_axes.py:6462: UserWarning: The 'normed' kwarg is deprecated, and has been replaced by the 'density' kwarg.\n",
      "  warnings.warn(\"The 'normed' kwarg is deprecated, and has been \"\n"
     ]
    },
    {
     "data": {
      "text/plain": [
       "<seaborn.axisgrid.JointGrid at 0x10c6c2ba8>"
      ]
     },
     "execution_count": 14,
     "metadata": {},
     "output_type": "execute_result"
    },
    {
     "data": {
      "image/png": "[encoded data removed]",
      "text/plain": [
       "<Figure size 432x432 with 3 Axes>"
      ]
     },
     "metadata": {},
     "output_type": "display_data"
    }
   ],
   "source": [
    "sns.jointplot(x='log_price',y='rating',data=pdf,kind='reg')"
   ]
  },
  {
   "cell_type": "markdown",
   "metadata": {},
   "source": [
    "The correlation is indeed positive and strongly significant. It is, however, only 0.45 (on August 22nd). "
   ]
  },
  {
   "cell_type": "markdown",
   "metadata": {},
   "source": [
    "Run the analysis for a sample of products:"
   ]
  },
  {
   "cell_type": "code",
   "execution_count": null,
   "metadata": {
    "collapsed": true
   },
   "outputs": [],
   "source": [
    "from collections import OrderedDict\n",
    "import random\n",
    "from random import randrange"
   ]
  },
  {
   "cell_type": "code",
   "execution_count": 4,
   "metadata": {},
   "outputs": [],
   "source": [
    "#Scrape product categories:\n",
    "url_all = 'https://www.prisjakt.nu/'\n",
    "page_all = requests.get(url_all)\n",
    "page_html_all = page_all.text\n",
    "all_products_list_long = re.findall('/kategori.php\\?k=((?!v).*?)\"',page_html_all)"
   ]
  },
  {
   "cell_type": "code",
   "execution_count": 5,
   "metadata": {},
   "outputs": [
    {
     "data": {
      "text/plain": [
       "['1180', '1182', '1807', '1869', '1887', '1856', '1578', '480', '101', '326']"
      ]
     },
     "execution_count": 5,
     "metadata": {},
     "output_type": "execute_result"
    }
   ],
   "source": [
    "#Drop irrelevant categories (they are longer than 4 symbols)\n",
    "list_length = len(all_products_list_long)\n",
    "for x in range(0,list_length):\n",
    "    if len(all_products_list_long[x])>4:\n",
    "        all_products_list_long[x] = '0'\n",
    "        \n",
    "#Remove duplicates        \n",
    "all_products_list = list(OrderedDict.fromkeys(all_products_list_long))\n",
    "all_products_list.remove('0')   \n",
    "all_products_list\n",
    "\n",
    "# pick a random sample\n",
    "random_index = randrange(len(all_products_list))\n",
    "random_sample = all_products_list[random_index:random_index+10]\n",
    "random_sample"
   ]
  },
  {
   "cell_type": "code",
   "execution_count": 6,
   "metadata": {},
   "outputs": [
    {
     "name": "stdout",
     "output_type": "stream",
     "text": [
      "0\n",
      "50\n",
      "100\n",
      "150\n",
      "200\n",
      "250\n",
      "300\n",
      "350\n",
      "400\n",
      "450\n",
      "500\n",
      "550\n",
      "600\n",
      "650\n",
      "700\n",
      "750\n",
      "800\n",
      "850\n",
      "900\n",
      "950\n",
      "1000\n",
      "1050\n",
      "1100\n",
      "0\n",
      "50\n",
      "100\n",
      "150\n",
      "200\n",
      "250\n",
      "300\n",
      "350\n",
      "400\n",
      "450\n",
      "0\n",
      "50\n",
      "100\n",
      "150\n",
      "200\n",
      "250\n",
      "300\n",
      "350\n",
      "400\n",
      "450\n",
      "500\n",
      "550\n",
      "600\n",
      "0\n",
      "50\n",
      "100\n",
      "150\n",
      "200\n",
      "250\n",
      "300\n",
      "0\n",
      "50\n",
      "100\n",
      "150\n",
      "200\n",
      "250\n",
      "300\n",
      "350\n",
      "400\n",
      "450\n",
      "500\n",
      "0\n",
      "50\n",
      "0\n",
      "problem with 1578\n",
      "0\n",
      "problem with 480\n",
      "0\n",
      "50\n",
      "100\n",
      "150\n",
      "200\n",
      "250\n",
      "300\n",
      "350\n",
      "400\n",
      "450\n",
      "500\n",
      "550\n",
      "0\n",
      "50\n",
      "100\n",
      "150\n",
      "200\n",
      "250\n",
      "300\n",
      "350\n",
      "400\n",
      "450\n",
      "500\n",
      "550\n",
      "600\n",
      "650\n",
      "700\n",
      "750\n",
      "800\n",
      "850\n",
      "900\n",
      "950\n",
      "1000\n",
      "1050\n",
      "1100\n",
      "1150\n",
      "1200\n",
      "1250\n",
      "1300\n",
      "1350\n",
      "1400\n",
      "1450\n",
      "1500\n",
      "1550\n",
      "1600\n",
      "1650\n",
      "1700\n",
      "1750\n",
      "1800\n",
      "1850\n",
      "1900\n",
      "1950\n",
      "2000\n"
     ]
    }
   ],
   "source": [
    "product_dfs = []\n",
    "\n",
    "for k in random_sample:\n",
    "    try:\n",
    "        df = scrape_prisjakt(k)\n",
    "        product_dfs.append(df)\n",
    "    except:\n",
    "        print(\"problem with\",k)\n"
   ]
  },
  {
   "cell_type": "code",
   "execution_count": 7,
   "metadata": {},
   "outputs": [],
   "source": [
    "df_all=pd.concat(product_dfs)"
   ]
  },
  {
   "cell_type": "code",
   "execution_count": 9,
   "metadata": {},
   "outputs": [
    {
     "name": "stdout",
     "output_type": "stream",
     "text": [
      "<class 'pandas.core.frame.DataFrame'>\n",
      "Int64Index: 2868 entries, 0 to 2047\n",
      "Data columns (total 6 columns):\n",
      "id           2868 non-null object\n",
      "price        2868 non-null float64\n",
      "rating       2868 non-null float64\n",
      "log_price    2868 non-null float64\n",
      "k            2868 non-null object\n",
      "N            2868 non-null int64\n",
      "dtypes: float64(3), int64(1), object(2)\n",
      "memory usage: 156.8+ KB\n"
     ]
    }
   ],
   "source": [
    "df_all.info()"
   ]
  },
  {
   "cell_type": "code",
   "execution_count": 10,
   "metadata": {},
   "outputs": [
    {
     "data": {
      "text/plain": [
       "k              \n",
       "101   log_price   -0.110363\n",
       "1180  log_price   -0.136928\n",
       "1182  log_price   -0.012568\n",
       "1807  log_price    0.219723\n",
       "1869  log_price    0.012755\n",
       "1887  log_price    0.648627\n",
       "326   log_price    0.158372\n",
       "Name: rating, dtype: float64"
      ]
     },
     "execution_count": 10,
     "metadata": {},
     "output_type": "execute_result"
    }
   ],
   "source": [
    "df_all.groupby('k')[['log_price','rating']].corr().iloc[0::2,-1]"
   ]
  }
 ],
 "metadata": {
  "kernelspec": {
   "display_name": "Python 3",
   "language": "python",
   "name": "python3"
  },
  "language_info": {
   "codemirror_mode": {
    "name": "ipython",
    "version": 3
   },
   "file_extension": ".py",
   "mimetype": "text/x-python",
   "name": "python",
   "nbconvert_exporter": "python",
   "pygments_lexer": "ipython3",
   "version": "3.6.5"
  }
 },
 "nbformat": 4,
 "nbformat_minor": 2
}
